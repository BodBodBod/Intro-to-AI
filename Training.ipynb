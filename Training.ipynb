{
 "cells": [
  {
   "cell_type": "markdown",
   "id": "b4aa0fdd",
   "metadata": {},
   "source": [
    "## Графовое представление данных"
   ]
  },
  {
   "cell_type": "code",
   "execution_count": 10,
   "id": "f53783ac",
   "metadata": {},
   "outputs": [],
   "source": [
    "import dgl\n",
    "from dgl.data import DGLDataset\n",
    "import torch\n",
    "import pandas as pd"
   ]
  },
  {
   "cell_type": "code",
   "execution_count": 11,
   "id": "e703afd0",
   "metadata": {},
   "outputs": [],
   "source": [
    "class OneMetricDataset(DGLDataset):\n",
    "    def __init__(self, metric):\n",
    "        if isinstance(metric, str):\n",
    "            super().__init__(name=metric + ' dataset')\n",
    "            self.metric = metric\n",
    "        else:\n",
    "            raise TypeError('\"metric\" should be a string with metric name')\n",
    "\n",
    "    def process(self):\n",
    "        edges = pd.read_csv('edges_ltv.csv')\n",
    "        properties = pd.read_csv('properties_ltv.csv')\n",
    "        one_hot_enc = pd.read_csv('one_hot_ltv.csv')\n",
    "\n",
    "        self.graphs = []\n",
    "        self.labels = []\n",
    "\n",
    "    \n",
    "        label_dict = {}\n",
    "        num_nodes_dict = {}\n",
    "        for _, row in properties.iterrows():\n",
    "            label_dict[row[\"graph_id\"]] = row[\"label\"]\n",
    "            num_nodes_dict[row[\"graph_id\"]] = row[\"num_nodes\"]\n",
    "\n",
    "        edges_group = edges.groupby(\"graph_id\")\n",
    "\n",
    "        # For each graph ID...\n",
    "        for graph_id in edges_group.groups:\n",
    "            edges_of_id = edges_group.get_group(graph_id)\n",
    "            src = edges_of_id[\"src\"].to_numpy()\n",
    "            dst = edges_of_id[\"dst\"].to_numpy()\n",
    "            num_nodes = num_nodes_dict[graph_id]\n",
    "            label = label_dict[graph_id]\n",
    "\n",
    "            g = dgl.graph((src, dst), num_nodes=num_nodes)\n",
    "\n",
    "            ohe_of_id = one_hot_enc[one_hot_enc['graph_id'] == graph_id]\n",
    "\n",
    "            ohe_data = []\n",
    "            for _, ohe_row in ohe_of_id.iterrows():\n",
    "                ohe_string = ohe_row['one_hot_vector']\n",
    "                ohe_list = [float(num) for num in ohe_string.split(',')]\n",
    "                ohe_data.append(ohe_list)\n",
    "            ohe_tensor = torch.tensor(ohe_data, dtype=torch.float32)\n",
    "            g.ndata['OHE'] = ohe_tensor\n",
    "            g = dgl.add_self_loop(g)\n",
    "            \n",
    "            self.graphs.append(g)\n",
    "            self.labels.append(label)\n",
    "\n",
    "        self.labels = torch.LongTensor(self.labels)\n",
    "\n",
    "    def __getitem__(self, i):\n",
    "        return self.graphs[i], self.labels[i]\n",
    "\n",
    "    def __len__(self):\n",
    "        return len(self.graphs)"
   ]
  },
  {
   "cell_type": "code",
   "execution_count": 12,
   "id": "5ec3a955",
   "metadata": {
    "scrolled": true
   },
   "outputs": [
    {
     "name": "stdout",
     "output_type": "stream",
     "text": [
      "Graph(num_nodes=352, num_edges=735,\n",
      "      ndata_schemes={'OHE': Scheme(shape=(352,), dtype=torch.float32)}\n",
      "      edata_schemes={}) tensor(0)\n"
     ]
    }
   ],
   "source": [
    "dataset = OneMetricDataset('LTV')\n",
    "graph, label = dataset[0]\n",
    "print(graph, label)"
   ]
  },
  {
   "cell_type": "markdown",
   "id": "6729ef7f",
   "metadata": {},
   "source": [
    "### Следующие задачи\n",
    "1. Как задать тензор для каждого графа? Насколько я понимаю, с помощью тензора задаются фичи в узлах, впоследствии я задам эти фичи с помощью Word2Vec для каждого названия таблицы и колонки (+)\n",
    "2. Далее генерируем схемы базы данных, преобразуем их в занумерованные графы, фичи узлов -- названия колонок и таблиц, закодированные с помощью Word2Vec (+)\n",
    "3. Как обучать модель? (+)\n",
    "3. Обучить несколько моделей и сравнить результаты на этих данных \n",
    "Всё вышеперечисленное будет работать для одной метрики, такую последовательность надо проделать для всех метрик"
   ]
  },
  {
   "cell_type": "code",
   "execution_count": 14,
   "id": "bca6e488",
   "metadata": {},
   "outputs": [],
   "source": [
    "from dgl.dataloading import GraphDataLoader\n",
    "from torch.utils.data.sampler import SubsetRandomSampler\n",
    "\n",
    "num_examples = len(dataset)\n",
    "num_train = int(num_examples * 0.8)\n",
    "\n",
    "train_sampler = SubsetRandomSampler(torch.arange(num_train))\n",
    "test_sampler = SubsetRandomSampler(torch.arange(num_train, num_examples))\n",
    "\n",
    "train_dataloader = GraphDataLoader(\n",
    "    dataset, sampler=train_sampler, batch_size=5, drop_last=False)\n",
    "test_dataloader = GraphDataLoader(\n",
    "    dataset, sampler=test_sampler, batch_size=5, drop_last=False)"
   ]
  },
  {
   "cell_type": "code",
   "execution_count": 15,
   "id": "3e017b55",
   "metadata": {},
   "outputs": [
    {
     "name": "stdout",
     "output_type": "stream",
     "text": [
      "[Graph(num_nodes=1474, num_edges=3040,\n",
      "      ndata_schemes={'OHE': Scheme(shape=(352,), dtype=torch.float32)}\n",
      "      edata_schemes={}), tensor([0, 1, 1, 1, 1])]\n"
     ]
    }
   ],
   "source": [
    "it = iter(train_dataloader)\n",
    "batch = next(it)\n",
    "print(batch)"
   ]
  },
  {
   "cell_type": "code",
   "execution_count": 16,
   "id": "497d8d25",
   "metadata": {},
   "outputs": [
    {
     "name": "stdout",
     "output_type": "stream",
     "text": [
      "Number of nodes for each graph element in the batch: tensor([352, 253, 340, 255, 274])\n",
      "Number of edges for each graph element in the batch: tensor([735, 519, 708, 517, 561])\n",
      "The original graphs in the minibatch:\n",
      "[Graph(num_nodes=352, num_edges=735,\n",
      "      ndata_schemes={'OHE': Scheme(shape=(352,), dtype=torch.float32)}\n",
      "      edata_schemes={}), Graph(num_nodes=253, num_edges=519,\n",
      "      ndata_schemes={'OHE': Scheme(shape=(352,), dtype=torch.float32)}\n",
      "      edata_schemes={}), Graph(num_nodes=340, num_edges=708,\n",
      "      ndata_schemes={'OHE': Scheme(shape=(352,), dtype=torch.float32)}\n",
      "      edata_schemes={}), Graph(num_nodes=255, num_edges=517,\n",
      "      ndata_schemes={'OHE': Scheme(shape=(352,), dtype=torch.float32)}\n",
      "      edata_schemes={}), Graph(num_nodes=274, num_edges=561,\n",
      "      ndata_schemes={'OHE': Scheme(shape=(352,), dtype=torch.float32)}\n",
      "      edata_schemes={})]\n"
     ]
    }
   ],
   "source": [
    "batched_graph, labels = batch\n",
    "print('Number of nodes for graphs in the batch:', batched_graph.batch_num_nodes())\n",
    "print('Number of edges for graphs in the batch:', batched_graph.batch_num_edges())\n",
    "\n",
    "graphs = dgl.unbatch(batched_graph)\n",
    "print('The original graphs in the minibatch:')\n",
    "print(graphs)"
   ]
  },
  {
   "cell_type": "code",
   "execution_count": 17,
   "id": "ed7db417",
   "metadata": {},
   "outputs": [],
   "source": [
    "from dgl.nn import GraphConv\n",
    "import torch\n",
    "import torch.nn as nn\n",
    "import torch.nn.functional as F\n",
    "\n",
    "class GCN(nn.Module):\n",
    "    def __init__(self, in_feats, h_feats, num_classes):\n",
    "        super(GCN, self).__init__()\n",
    "        self.conv1 = GraphConv(in_feats, h_feats)\n",
    "        self.conv2 = GraphConv(h_feats, num_classes)\n",
    "\n",
    "    def forward(self, g, in_feat):\n",
    "        h = self.conv1(g, in_feat)\n",
    "        h = F.relu(h)\n",
    "        h = self.conv2(g, h)\n",
    "        g.ndata['h'] = h\n",
    "        return dgl.mean_nodes(g, 'h')"
   ]
  },
  {
   "cell_type": "code",
   "execution_count": 20,
   "id": "4099038a",
   "metadata": {},
   "outputs": [
    {
     "name": "stdout",
     "output_type": "stream",
     "text": [
      "Test accuracy: 0.3\n"
     ]
    }
   ],
   "source": [
    "model = GCN(352, 16, 2)\n",
    "optimizer = torch.optim.Adam(model.parameters(), lr=0.01)\n",
    "\n",
    "for epoch in range(20):\n",
    "    for batched_graph, labels in train_dataloader:\n",
    "        pred = model(batched_graph, batched_graph.ndata['OHE'].float())\n",
    "        loss = F.cross_entropy(pred, labels)\n",
    "        optimizer.zero_grad()\n",
    "        loss.backward()\n",
    "        optimizer.step()\n",
    "\n",
    "num_correct = 0\n",
    "num_tests = 0\n",
    "for batched_graph, labels in test_dataloader:\n",
    "    pred = model(batched_graph, batched_graph.ndata['OHE'].float())\n",
    "    num_correct += (pred.argmax(1) == labels).sum().item()\n",
    "    num_tests += len(labels)\n",
    "\n",
    "print('Test accuracy:', num_correct / num_tests)"
   ]
  }
 ],
 "metadata": {
  "kernelspec": {
   "display_name": "Python 3 (ipykernel)",
   "language": "python",
   "name": "python3"
  },
  "language_info": {
   "codemirror_mode": {
    "name": "ipython",
    "version": 3
   },
   "file_extension": ".py",
   "mimetype": "text/x-python",
   "name": "python",
   "nbconvert_exporter": "python",
   "pygments_lexer": "ipython3",
   "version": "3.10.1"
  }
 },
 "nbformat": 4,
 "nbformat_minor": 5
}
